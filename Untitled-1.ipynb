{
 "cells": [
  {
   "cell_type": "code",
   "execution_count": 8,
   "source": [
    "#! python\n",
    "import threading\n",
    "from db.config import TableConfigs\n",
    "from google.protobuf import json_format\n",
    "from mysql.connector.cursor import CursorBase\n",
    "import os\n",
    "from setupDB import getConn\n",
    "from utils import getDtypeDataDir\n",
    "from model.schema import Convertor, DataType\n",
    "from typing import IO, Any, List\n",
    "from env import DataDir, DtypeDescs, ProtoBuildDir\n",
    "from parseDoc import getDataType\n",
    "import logging\n",
    "import glob\n",
    "import sys\n",
    "import queue\n",
    "import parseData\n"
   ],
   "outputs": [],
   "metadata": {}
  },
  {
   "cell_type": "code",
   "execution_count": 23,
   "source": [
    "\n",
    "def insertAllData(dtypeName: str,\n",
    "                  dataDir: str = DataDir, protoBuildDir: str = ProtoBuildDir):\n",
    "    parentDtypeName = DtypeDescs[dtypeName.lower()].dataIncludedIn\n",
    "    dir = getDtypeDataDir(parentDtypeName, dataDir)\n",
    "\n",
    "    fromName = protoBuildDir.replace(\"/\", \".\")\n",
    "    pbModule = __import__(fromName + \".%s_pb2\" %\n",
    "                          dtypeName, fromlist=[fromName])\n",
    "    dtype = getDataType(dtypeName)\n",
    "    fieldConvertors = dtype.fieldConvertors()\n",
    "    ProtoT = getattr(pbModule, dtype.dtname.capitalize())\n",
    "\n",
    "    files = sorted(glob.glob(dir + \"/%s*.txt\" % dtypeName.upper()))\n",
    "\n",
    "    frontier = {i : 0 for i in range(0,15)}\n",
    "    for fname in files:\n",
    "        with open(fname, \"rb\", 100000) as f:\n",
    "            dat = parseData.parseData(ProtoT, dtype, fieldConvertors, f)\n",
    "            for d in dat:\n",
    "                bacode = getattr(d, \"racekey_ba_code\")\n",
    "                nen = getattr(d, \"racekey_nen\")\n",
    "                kai = getattr(d, \"racekey_kai\")\n",
    "                nichi = getattr(d, \"racekey_nichi\")\n",
    "                r = getattr(d, \"racekey_R\")\n",
    "                if nen == 99:\n",
    "                    nen = 1999\n",
    "                else:\n",
    "                    nen = 2000 + nen\n",
    "                racekey = nen*10000000 + kai*1000000 + nichi*1000 \n",
    "                if frontier[bacode] > racekey:\n",
    "                    print(fname, bacode, nen,kai,nichi, frontier)\n",
    "                    # raise Exception(fname)\n",
    "                frontier[bacode] = racekey\n",
    "                \n"
   ],
   "outputs": [],
   "metadata": {}
  },
  {
   "cell_type": "code",
   "execution_count": 24,
   "source": [
    "insertAllData(\"sed\")"
   ],
   "outputs": [
    {
     "output_type": "stream",
     "name": "stdout",
     "text": [
      "data/sed/SED000619.txt 2 2000 1 3 {0: 0, 1: 0, 2: 20001040000, 3: 20001080000, 4: 0, 5: 20004020000, 6: 20003080000, 7: 20002080000, 8: 20003080000, 9: 20003020000, 10: 20001080000, 11: 0, 12: 0, 13: 0, 14: 0}\n"
     ]
    },
    {
     "output_type": "error",
     "ename": "Exception",
     "evalue": "data/sed/SED000619.txt",
     "traceback": [
      "\u001b[0;31m---------------------------------------------------------------------------\u001b[0m",
      "\u001b[0;31mException\u001b[0m                                 Traceback (most recent call last)",
      "\u001b[0;32m/tmp/ipykernel_2921858/4210449253.py\u001b[0m in \u001b[0;36m<module>\u001b[0;34m\u001b[0m\n\u001b[0;32m----> 1\u001b[0;31m \u001b[0minsertAllData\u001b[0m\u001b[0;34m(\u001b[0m\u001b[0;34m\"sed\"\u001b[0m\u001b[0;34m)\u001b[0m\u001b[0;34m\u001b[0m\u001b[0;34m\u001b[0m\u001b[0m\n\u001b[0m",
      "\u001b[0;32m/tmp/ipykernel_2921858/1712734502.py\u001b[0m in \u001b[0;36minsertAllData\u001b[0;34m(dtypeName, dataDir, protoBuildDir)\u001b[0m\n\u001b[1;32m     30\u001b[0m                 \u001b[0;32mif\u001b[0m \u001b[0mfrontier\u001b[0m\u001b[0;34m[\u001b[0m\u001b[0mbacode\u001b[0m\u001b[0;34m]\u001b[0m \u001b[0;34m>\u001b[0m \u001b[0mracekey\u001b[0m\u001b[0;34m:\u001b[0m\u001b[0;34m\u001b[0m\u001b[0;34m\u001b[0m\u001b[0m\n\u001b[1;32m     31\u001b[0m                     \u001b[0mprint\u001b[0m\u001b[0;34m(\u001b[0m\u001b[0mfname\u001b[0m\u001b[0;34m,\u001b[0m \u001b[0mbacode\u001b[0m\u001b[0;34m,\u001b[0m \u001b[0mnen\u001b[0m\u001b[0;34m,\u001b[0m\u001b[0mkai\u001b[0m\u001b[0;34m,\u001b[0m\u001b[0mnichi\u001b[0m\u001b[0;34m,\u001b[0m \u001b[0mfrontier\u001b[0m\u001b[0;34m)\u001b[0m\u001b[0;34m\u001b[0m\u001b[0;34m\u001b[0m\u001b[0m\n\u001b[0;32m---> 32\u001b[0;31m                     \u001b[0;32mraise\u001b[0m \u001b[0mException\u001b[0m\u001b[0;34m(\u001b[0m\u001b[0mfname\u001b[0m\u001b[0;34m)\u001b[0m\u001b[0;34m\u001b[0m\u001b[0;34m\u001b[0m\u001b[0m\n\u001b[0m\u001b[1;32m     33\u001b[0m                 \u001b[0mfrontier\u001b[0m\u001b[0;34m[\u001b[0m\u001b[0mbacode\u001b[0m\u001b[0;34m]\u001b[0m \u001b[0;34m=\u001b[0m \u001b[0mracekey\u001b[0m\u001b[0;34m\u001b[0m\u001b[0;34m\u001b[0m\u001b[0m\n\u001b[1;32m     34\u001b[0m \u001b[0;34m\u001b[0m\u001b[0m\n",
      "\u001b[0;31mException\u001b[0m: data/sed/SED000619.txt"
     ]
    }
   ],
   "metadata": {}
  }
 ],
 "metadata": {
  "orig_nbformat": 4,
  "language_info": {
   "name": "python",
   "version": "3.7.10",
   "mimetype": "text/x-python",
   "codemirror_mode": {
    "name": "ipython",
    "version": 3
   },
   "pygments_lexer": "ipython3",
   "nbconvert_exporter": "python",
   "file_extension": ".py"
  },
  "kernelspec": {
   "name": "python3",
   "display_name": "Python 3.7.10 64-bit ('pypy3.7-7.3.5': pyenv)"
  },
  "interpreter": {
   "hash": "b7ce79708a29bc96b73471f8a2f02bb59b19715e4d5c695ff4116633b284022d"
  }
 },
 "nbformat": 4,
 "nbformat_minor": 2
}